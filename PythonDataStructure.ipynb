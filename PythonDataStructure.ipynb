{
 "cells": [
  {
   "cell_type": "code",
   "execution_count": 8,
   "metadata": {
    "collapsed": true
   },
   "outputs": [],
   "source": [
    "import time\n",
    "def sum0fn2(n):\n",
    "    start = time.time()\n",
    "    theSum = 0\n",
    "    for i in range(1,n+1):\n",
    "        theSum = theSum+i\n",
    "    end =time.time()\n",
    "    return theSum,end-start"
   ]
  },
  {
   "cell_type": "code",
   "execution_count": 14,
   "metadata": {
    "collapsed": false
   },
   "outputs": [
    {
     "name": "stdout",
     "output_type": "stream",
     "text": [
      "Sum is 50005000 required  0.0017140 seconds\n",
      "Sum is 50005000 required  0.0013909 seconds\n",
      "Sum is 50005000 required  0.0013590 seconds\n",
      "Sum is 50005000 required  0.0012529 seconds\n",
      "Sum is 50005000 required  0.0012429 seconds\n"
     ]
    }
   ],
   "source": [
    "for i in range(5):\n",
    "    print \"Sum is %d required %10.7f seconds\"%sum0fn2(10000)"
   ]
  },
  {
   "cell_type": "code",
   "execution_count": 15,
   "metadata": {
    "collapsed": false
   },
   "outputs": [
    {
     "name": "stdout",
     "output_type": "stream",
     "text": [
      "Sum is 5000050000 requred  0.0106671 seconds\n",
      "Sum is 5000050000 requred  0.0087671 seconds\n",
      "Sum is 5000050000 requred  0.0111279 seconds\n",
      "Sum is 5000050000 requred  0.0075729 seconds\n",
      "Sum is 5000050000 requred  0.0085239 seconds\n"
     ]
    }
   ],
   "source": [
    "for i in range(5):\n",
    "    print \"Sum is %d requred %10.7f seconds\"%sum0fn2(100000)"
   ]
  },
  {
   "cell_type": "code",
   "execution_count": 34,
   "metadata": {
    "collapsed": false
   },
   "outputs": [
    {
     "name": "stdout",
     "output_type": "stream",
     "text": [
      "Sum is 5000000050000000 requred  0.0000019 seconds\n"
     ]
    }
   ],
   "source": [
    "def sum0fn3(n):\n",
    "    start = time.time()\n",
    "    sum = (n*(n+1))/2\n",
    "    end =time.time()\n",
    "    return sum,end-start\n",
    "print \"Sum is %d requred %10.7f seconds\"%sum0fn3(100000000)"
   ]
  },
  {
   "cell_type": "markdown",
   "metadata": {},
   "source": [
    "Stack\n",
    "-----\n",
    "A stack is an ordered collection of items where the addition of new items and the reomval of existing items always takes place at the same end. This end is referred to as the top. The end opposite the top is known as the base.\n",
    "\n",
    "The based of the stack are the items stored in the stack the longest. The most recently added items got removed first. The ordering principle is sometimes called LIFO, last-in-first-out.\n",
    "\n",
    "Below is the implementation of stack in python using the object-oriented programming.  "
   ]
  },
  {
   "cell_type": "code",
   "execution_count": 9,
   "metadata": {
    "collapsed": false
   },
   "outputs": [],
   "source": [
    "class Stack:\n",
    "    def __init__(self):\n",
    "        self.items = []\n",
    "\n",
    "    def push(self, item):\n",
    "        self.items.append(item)\n",
    "\n",
    "    def pop(self):\n",
    "        return self.items.pop()\n",
    "\n",
    "    def is_Empty(self):\n",
    "        return (self.items == [])\n",
    "    def peek(self):\n",
    "        return self.items[len(self.items)-1]\n",
    "    def size(self):\n",
    "        return len(self.items)"
   ]
  },
  {
   "cell_type": "code",
   "execution_count": 11,
   "metadata": {
    "collapsed": false
   },
   "outputs": [
    {
     "data": {
      "text/plain": [
       "True"
      ]
     },
     "execution_count": 11,
     "metadata": {},
     "output_type": "execute_result"
    }
   ],
   "source": [
    "s = Stack()\n",
    "s.is_Empty()"
   ]
  },
  {
   "cell_type": "code",
   "execution_count": 12,
   "metadata": {
    "collapsed": true
   },
   "outputs": [],
   "source": [
    "s.push(4)"
   ]
  },
  {
   "cell_type": "code",
   "execution_count": 13,
   "metadata": {
    "collapsed": true
   },
   "outputs": [],
   "source": [
    "s.push('dog')"
   ]
  },
  {
   "cell_type": "code",
   "execution_count": 14,
   "metadata": {
    "collapsed": false
   },
   "outputs": [
    {
     "data": {
      "text/plain": [
       "'dog'"
      ]
     },
     "execution_count": 14,
     "metadata": {},
     "output_type": "execute_result"
    }
   ],
   "source": [
    "s.peek()"
   ]
  },
  {
   "cell_type": "markdown",
   "metadata": {},
   "source": [
    "Application of Stack1:\n",
    "----------------------\n",
    "Balanced parentheses means that each opening symbol has a corresponding closing symbol and the pairs of parentheses are properly nested.\n",
    "To check whether a string of parenthesis is balanced or not from left to right, we need to make a observation that the first opening symbol processed may have to wait until the very last symbol for the match. Closeing symbols match opening symbols in the reverse order of their apperance. This is the inidication of LIFO. (i.e. stack) "
   ]
  },
  {
   "cell_type": "code",
   "execution_count": 19,
   "metadata": {
    "collapsed": false
   },
   "outputs": [
    {
     "name": "stdout",
     "output_type": "stream",
     "text": [
      "True\n",
      "False\n"
     ]
    }
   ],
   "source": [
    "def parChecker(symbolString):\n",
    "    s = Stack()\n",
    "    balanced = True\n",
    "    index = 0\n",
    "    while index <len(symbolString) and balanced:\n",
    "        symbol = symbolString[index]\n",
    "        if symbol in \"([{\":\n",
    "            s.push(symbol)\n",
    "        else:\n",
    "            if s.is_Empty():\n",
    "                balanced = False\n",
    "            else:\n",
    "                top = s.pop()\n",
    "                if not matches(top,symbol):\n",
    "                    balanced = False\n",
    "        index = index+1           \n",
    "    if balanced and s.is_Empty():\n",
    "        return True\n",
    "    else:\n",
    "        return False\n",
    "def matches(open,close):\n",
    "    opens =\"([{\"\n",
    "    closers =\")]}\"\n",
    "    return opens.index(open) == closers.index(close)\n",
    "    \n",
    "print parChecker('{{(([[]]))}}')\n",
    "print parChecker('({(])')"
   ]
  },
  {
   "cell_type": "markdown",
   "metadata": {},
   "source": [
    "Applications of Stack2\n",
    "----------------------\n",
    "Converting decimal numbers to binary numbers requires a Divide by 2 algorithm. A simple iteration continuously divides the decimal number by 2 and keeps track of the remainder. \n",
    "When we build our binary number as a sequence of digits, the first remainder we compute will actually be the last digit in the sequence. (LIFO)"
   ]
  },
  {
   "cell_type": "code",
   "execution_count": 21,
   "metadata": {
    "collapsed": false
   },
   "outputs": [
    {
     "name": "stdout",
     "output_type": "stream",
     "text": [
      "11011010100\n"
     ]
    }
   ],
   "source": [
    "def divideBy2(decNumber):\n",
    "    remstack =Stack()\n",
    "    while decNumber >0:\n",
    "        rem = decNumber %2 # reminder\n",
    "        remstack.push(rem)\n",
    "        decNumber = decNumber //2\n",
    "    binString = \"\"\n",
    "    while not remstack.is_Empty():\n",
    "        binString +=str(remstack.pop())\n",
    "    return binString\n",
    "print (divideBy2(1748))"
   ]
  },
  {
   "cell_type": "code",
   "execution_count": 37,
   "metadata": {
    "collapsed": false
   },
   "outputs": [
    {
     "name": "stdout",
     "output_type": "stream",
     "text": [
      "10\n",
      "100\n"
     ]
    }
   ],
   "source": [
    "def baseConverter(decNumber,base):\n",
    "    digits =\"0123456789ABCDEFGHIJKLMNOPQ\"\n",
    "    remstack =Stack()\n",
    "    while decNumber >0:\n",
    "        rem = decNumber %base\n",
    "        remstack.push(rem)\n",
    "        decNumber = decNumber//base\n",
    "    newString=\"\"\n",
    "    while not remstack.is_Empty():\n",
    "        newString+=digits[remstack.pop()]\n",
    "    return newString\n",
    "print (baseConverter(26,26))\n",
    "print (baseConverter(256,16))"
   ]
  },
  {
   "cell_type": "markdown",
   "metadata": {},
   "source": [
    "Queue\n",
    "-----\n",
    "A queue is an ordered collection of items where the addition of new items happens at the end, called the rear, and the removal of existing items occurs at the end, called the front. As a element enters a queue it starts at the rear and makes its way toward the front, waiting until that time when it is the next element to be removed.\n",
    "\n",
    "The ordering principle is FIFO, first-in-first-out.\n",
    "\n",
    "Below is the python implementation of a queue abstract data type by creating a new class. We use the list collection from python to build the internal representation of the queue.\n"
   ]
  },
  {
   "cell_type": "code",
   "execution_count": 51,
   "metadata": {
    "collapsed": false
   },
   "outputs": [],
   "source": [
    "class Queue:\n",
    "    def __init__(self):\n",
    "        self.items =[]\n",
    "    def isEmpty(self):\n",
    "        return self.items==[]\n",
    "    def enqueue(self,item):\n",
    "        self.items.insert(0,item)\n",
    "    def dequeue(self):\n",
    "        return self.items.pop()\n",
    "    def size(self):\n",
    "        return len(self.items)\n",
    "    def show(self):\n",
    "        print self.items"
   ]
  },
  {
   "cell_type": "code",
   "execution_count": 40,
   "metadata": {
    "collapsed": false
   },
   "outputs": [
    {
     "name": "stdout",
     "output_type": "stream",
     "text": [
      "hi\n"
     ]
    }
   ],
   "source": [
    "q =Queue()\n",
    "q.enqueue(\"hi\")\n",
    "q.enqueue(\"there\")\n",
    "q.enqueue(\"!\")\n",
    "print q.dequeue()"
   ]
  },
  {
   "cell_type": "markdown",
   "metadata": {},
   "source": [
    "Queue Application1\n",
    "------------------\n",
    "A childrenn's game called Hot Potato. In this game, children line up in a circle and pass an item from neighbor to neighbor. At a certain point of the game, the action is stopped and the child who has the item (potato) is removed from the circle. Play continues until only one child is left.\n",
    "\n",
    "The program will input a list of names and a constant, call it num, to be used for counting. It will return the last person remaining after repetitive counting by num. "
   ]
  },
  {
   "cell_type": "code",
   "execution_count": 68,
   "metadata": {
    "collapsed": false
   },
   "outputs": [
    {
     "name": "stdout",
     "output_type": "stream",
     "text": [
      "C\n"
     ]
    }
   ],
   "source": [
    "def hotPotato(namelist,num):\n",
    "    simqueue=Queue()\n",
    "    for name in namelist:\n",
    "        simqueue.enqueue(name)\n",
    "    while simqueue.size()>1:\n",
    "        for i in range(num):\n",
    "            simqueue.enqueue(simqueue.dequeue())\n",
    "        simqueue.dequeue()\n",
    "    return simqueue.dequeue()   \n",
    "print hotPotato(['C','B','A'],4)"
   ]
  },
  {
   "cell_type": "markdown",
   "metadata": {},
   "source": [
    "Queue Application2\n",
    "------------------\n",
    "Managing printing tasks requires to place tasks in queue (FIFO)."
   ]
  },
  {
   "cell_type": "code",
   "execution_count": null,
   "metadata": {
    "collapsed": true
   },
   "outputs": [],
   "source": [
    "class Printer:\n",
    "    def __init__(self.ppm):\n",
    "        self.pagerate =ppm\n",
    "        self.currentTask = None\n",
    "        self.timeRemaining =0\n",
    "    def tick(self):\n",
    "        if self.currentTask!=None:\n",
    "            self.timeRemaining =self.timeRemaining-1\n",
    "            if self.timeRemaining<=0:\n",
    "                self.currentTask=None\n",
    "    def busy(self):\n",
    "        if self.currentTask!=None:\n",
    "            return True\n",
    "        else:\n",
    "            return False\n",
    "    def startNext(self,newtask):\n",
    "        self.currentTask=newtask\n",
    "        self.timeRemaining=newtask.getPages()*60/self.pagerate"
   ]
  },
  {
   "cell_type": "markdown",
   "metadata": {},
   "source": [
    "The Sequential Search\n",
    "---------------------\n",
    "When data items are stored in a collection such as a list, we say they have a linear or sequentail relationship. Each data item is stored in a position relative to the others. In python, we can store data in a list with associated index. Since the index in the python lists are ordered, it is possible for us to visit them in sequece.(sequential searching) \n",
    "\n",
    "On avearge, it takes n/2 to search for an item."
   ]
  },
  {
   "cell_type": "code",
   "execution_count": null,
   "metadata": {
    "collapsed": true
   },
   "outputs": [],
   "source": [
    "def sequentialSearch(alist,item):\n",
    "    pos = 0\n",
    "    found = False\n",
    "    \n",
    "    while pos < len(alist) and not found:\n",
    "        if alist[pos] == item:\n",
    "            found = True\n",
    "        else:\n",
    "            pos =+1\n",
    "    return found \n"
   ]
  },
  {
   "cell_type": "markdown",
   "metadata": {},
   "source": [
    "Binary Searching\n",
    "----------------\n",
    "The binary search will start by examing the middle item. If that item is the one we are searching for, we are done. if it is not the correct item, we can use the ordered nature of the list to eliminate half of the remaining items. If the item we are searching for is greater than the middle item, we know that the entire lower half of the list as well as the middle item can be eliminated from further consideration. The item, if it is in the list, must be in the upper half."
   ]
  },
  {
   "cell_type": "code",
   "execution_count": null,
   "metadata": {
    "collapsed": true
   },
   "outputs": [],
   "source": [
    "def binarysearch(alist, item):\n",
    "    found = False\n",
    "    first =0\n",
    "    last = len (alist)-1 \n",
    "    if len(alist) ==0:\n",
    "        return found\n",
    "    else:\n",
    "        while first <=last and not found:\n",
    "            midpoint = (first + last)//2\n",
    "            if alist[midpoint]== item:\n",
    "                found = True\n",
    "            else:\n",
    "                if alist[midpoint] < item:\n",
    "                    first =midpoint+1                   \n",
    "                else:\n",
    "                    last = midpoint-1\n",
    "        return found\n",
    "\n",
    "testlist = [0, 1, 2, 8, 13, 17, 19, 32, 42,93]\n",
    "print binarysearch(testlist,17)    "
   ]
  },
  {
   "cell_type": "code",
   "execution_count": null,
   "metadata": {
    "collapsed": true
   },
   "outputs": [],
   "source": [
    "def binarysearch(alist,item):\n",
    "    if len(alist) ==0:\n",
    "        return False\n",
    "    else:\n",
    "        midpoint = len(alist)//2\n",
    "        if alist[midpoint] == item:\n",
    "            return True\n",
    "        else:\n",
    "            if alist[midpoint] > item:\n",
    "                return binarysearch(alist[:midpoint],item)\n",
    "            else:\n",
    "                return binarysearch(alist[midpoint+1:],item)\n",
    "        \n",
    "testlist = [0, 1, 2, 8, 13, 17, 19, 32, 42,93,100]\n",
    "print binarysearch(testlist,13)"
   ]
  },
  {
   "cell_type": "code",
   "execution_count": 12,
   "metadata": {
    "collapsed": true
   },
   "outputs": [],
   "source": [
    "class HashTable:\n",
    "    def __init__(self):\n",
    "        self.size = 11\n",
    "        self.slots = [None]*self.size\n",
    "        self.data = [None]*self.size\n",
    "    def put(self,key,data):\n",
    "        hashvalue = self.hashfunction(key,len(self.slots))\n",
    "    \n",
    "        if self.slots[hashvalue] == None:\n",
    "            self.slots[hashvalue] = key\n",
    "            self.data[hashvalue] = data\n",
    "        else:\n",
    "            if self.slots[hashvalue] == key:\n",
    "                self.data[hashvalue] = data #replace\n",
    "            else:\n",
    "                nextslot = self.rehash(hashvalue, len(self.slots))\n",
    "                while self.slots[nextslot] !=None and self.slots[nextslot] != key:\n",
    "                    nextslot = self.rehash (nextslot, len(self.slots))\n",
    "                    \n",
    "                if self.slots[nextslot]== None:\n",
    "                    self.slots[nextslot] = key\n",
    "                    self.data[nextslot] = data\n",
    "                else:\n",
    "                    self.data[nextslot] = data # replace\n",
    "            \n",
    "    def hashfunction(self,key,size):\n",
    "        return key %size\n",
    "    def rehash(self,oldhash,size):\n",
    "        return (oldhash+1)%size\n",
    "    def get(self,key):\n",
    "        startslot = self.hashfunction(key,len(self.slots))\n",
    "        data = None\n",
    "        stop = False\n",
    "        found = False\n",
    "        position = startslot\n",
    "        while self.slots[position]!= None and not found and not stop:\n",
    "            if self.slots[position] == key:\n",
    "                found = True\n",
    "                data = self.data[position]\n",
    "            else:\n",
    "                position = self.rehash(position,len(self.slots))\n",
    "                if position == startslot:\n",
    "                    stop = True\n",
    "        return data\n",
    "    def __getitem__(self,key):\n",
    "        return self.get(key)\n",
    "    def __setitem__(self,key,data):\n",
    "        self.put(key,data)"
   ]
  },
  {
   "cell_type": "code",
   "execution_count": 13,
   "metadata": {
    "collapsed": true
   },
   "outputs": [],
   "source": [
    "H = HashTable()\n",
    "H[54] = \"cat\"\n",
    "H[26] = \"dog\"\n",
    "H[93] = \"lion\"\n",
    "H[17]=\"tiger\"\n",
    "H[77]=\"bird\"\n",
    "H[31]=\"cow\"\n",
    "H[44]=\"goat\"\n",
    "H[55]=\"pig\"\n",
    "H[20]=\"chicken\""
   ]
  },
  {
   "cell_type": "code",
   "execution_count": 14,
   "metadata": {
    "collapsed": false
   },
   "outputs": [
    {
     "data": {
      "text/plain": [
       "[77, 44, 55, 20, 26, 93, 17, None, None, 31, 54]"
      ]
     },
     "execution_count": 14,
     "metadata": {},
     "output_type": "execute_result"
    }
   ],
   "source": [
    "H.slots"
   ]
  },
  {
   "cell_type": "code",
   "execution_count": 15,
   "metadata": {
    "collapsed": false
   },
   "outputs": [
    {
     "data": {
      "text/plain": [
       "['bird',\n",
       " 'goat',\n",
       " 'pig',\n",
       " 'chicken',\n",
       " 'dog',\n",
       " 'lion',\n",
       " 'tiger',\n",
       " None,\n",
       " None,\n",
       " 'cow',\n",
       " 'cat']"
      ]
     },
     "execution_count": 15,
     "metadata": {},
     "output_type": "execute_result"
    }
   ],
   "source": [
    "H.data"
   ]
  },
  {
   "cell_type": "code",
   "execution_count": 5,
   "metadata": {
    "collapsed": false
   },
   "outputs": [
    {
     "name": "stdout",
     "output_type": "stream",
     "text": [
      "[17, 20, 26, 31, 44, 54, 55, 77, 93]\n"
     ]
    }
   ],
   "source": [
    "def bubbleSort(alist):\n",
    "    for passnum in range(len(alist)-1,0,-1):\n",
    "        for i in range(passnum):\n",
    "            if alist[i]>alist[i+1]:\n",
    "                temp = alist[i]\n",
    "                alist[i] = alist[i+1]\n",
    "                alist[i+1] = temp\n",
    "\n",
    "alist = [54,26,93,17,77,31,44,55,20]\n",
    "bubbleSort(alist)\n",
    "print alist"
   ]
  },
  {
   "cell_type": "code",
   "execution_count": 11,
   "metadata": {
    "collapsed": false
   },
   "outputs": [
    {
     "name": "stdout",
     "output_type": "stream",
     "text": [
      "[17, 20, 26, 31, 44, 54, 55, 77, 93]\n"
     ]
    }
   ],
   "source": [
    "def selectionSort(alist):\n",
    "    for fillout in range(len(alist)-1,0,-1):\n",
    "        maxpos = 0\n",
    "        for pos in range(1,fillout+1):                      \n",
    "            if alist[pos]> alist[maxpos]:\n",
    "                maxpos = pos                      \n",
    "            temp = alist[fillout] # last element of the whole list\n",
    "            alist[fillout] = alist[maxpos]\n",
    "            alist[maxpos] = temp\n",
    "                \n",
    "alist = [54,26,93,17,77,31,44,55,20]\n",
    "selectionSort(alist)\n",
    "print alist          "
   ]
  },
  {
   "cell_type": "code",
   "execution_count": null,
   "metadata": {
    "collapsed": true
   },
   "outputs": [],
   "source": []
  },
  {
   "cell_type": "code",
   "execution_count": null,
   "metadata": {
    "collapsed": false
   },
   "outputs": [],
   "source": []
  },
  {
   "cell_type": "code",
   "execution_count": null,
   "metadata": {
    "collapsed": true
   },
   "outputs": [],
   "source": []
  }
 ],
 "metadata": {
  "kernelspec": {
   "display_name": "Python 2",
   "language": "python",
   "name": "python2"
  },
  "language_info": {
   "codemirror_mode": {
    "name": "ipython",
    "version": 2
   },
   "file_extension": ".py",
   "mimetype": "text/x-python",
   "name": "python",
   "nbconvert_exporter": "python",
   "pygments_lexer": "ipython2",
   "version": "2.7.11"
  }
 },
 "nbformat": 4,
 "nbformat_minor": 0
}
